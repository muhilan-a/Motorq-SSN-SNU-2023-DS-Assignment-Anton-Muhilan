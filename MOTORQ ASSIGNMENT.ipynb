{
 "cells": [
  {
   "cell_type": "markdown",
   "metadata": {},
   "source": [
    "**IMPORTING THE DATASETS**"
   ]
  },
  {
   "cell_type": "code",
   "execution_count": 33,
   "metadata": {
    "id": "wEJ8I6rrwp1q"
   },
   "outputs": [],
   "source": [
    "import pandas as pd\n",
    "df2=pd.read_csv(r\"C:\\Users\\anton\\OneDrive\\Desktop\\motorq\\triggers_soc.csv\")\n",
    "df=pd.read_csv(r\"C:\\Users\\anton\\OneDrive\\Desktop\\motorq\\telemetry_data.csv\")\n",
    "\n"
   ]
  },
  {
   "cell_type": "code",
   "execution_count": 34,
   "metadata": {
    "colab": {
     "base_uri": "https://localhost:8080/",
     "height": 206
    },
    "id": "9nBREosrwp1r",
    "outputId": "959cb03e-dc35-4303-c3f6-148c277c5465"
   },
   "outputs": [
    {
     "data": {
      "text/html": [
       "<div>\n",
       "<style scoped>\n",
       "    .dataframe tbody tr th:only-of-type {\n",
       "        vertical-align: middle;\n",
       "    }\n",
       "\n",
       "    .dataframe tbody tr th {\n",
       "        vertical-align: top;\n",
       "    }\n",
       "\n",
       "    .dataframe thead th {\n",
       "        text-align: right;\n",
       "    }\n",
       "</style>\n",
       "<table border=\"1\" class=\"dataframe\">\n",
       "  <thead>\n",
       "    <tr style=\"text-align: right;\">\n",
       "      <th></th>\n",
       "      <th>Unnamed: 0</th>\n",
       "      <th>VEHICLE_ID</th>\n",
       "      <th>TIMESTAMP</th>\n",
       "      <th>SPEED</th>\n",
       "      <th>IGNITION_STATUS</th>\n",
       "      <th>EV_BATTERY_LEVEL</th>\n",
       "      <th>ODOMETER</th>\n",
       "    </tr>\n",
       "  </thead>\n",
       "  <tbody>\n",
       "    <tr>\n",
       "      <th>0</th>\n",
       "      <td>0</td>\n",
       "      <td>66bd55df-eaf0-49c8-b9e1-7759b85e9325</td>\n",
       "      <td>2021-09-23 01:45:42.018</td>\n",
       "      <td>NaN</td>\n",
       "      <td>NaN</td>\n",
       "      <td>NaN</td>\n",
       "      <td>NaN</td>\n",
       "    </tr>\n",
       "    <tr>\n",
       "      <th>1</th>\n",
       "      <td>1</td>\n",
       "      <td>66bd55df-eaf0-49c8-b9e1-7759b85e9325</td>\n",
       "      <td>2021-09-23 01:58:08.017</td>\n",
       "      <td>NaN</td>\n",
       "      <td>NaN</td>\n",
       "      <td>NaN</td>\n",
       "      <td>NaN</td>\n",
       "    </tr>\n",
       "    <tr>\n",
       "      <th>2</th>\n",
       "      <td>2</td>\n",
       "      <td>66bd55df-eaf0-49c8-b9e1-7759b85e9325</td>\n",
       "      <td>2021-09-23 01:57:02.031</td>\n",
       "      <td>NaN</td>\n",
       "      <td>NaN</td>\n",
       "      <td>NaN</td>\n",
       "      <td>38685.9</td>\n",
       "    </tr>\n",
       "    <tr>\n",
       "      <th>3</th>\n",
       "      <td>3</td>\n",
       "      <td>66bd55df-eaf0-49c8-b9e1-7759b85e9325</td>\n",
       "      <td>2021-09-23 01:38:57.002</td>\n",
       "      <td>0.0</td>\n",
       "      <td>on</td>\n",
       "      <td>NaN</td>\n",
       "      <td>NaN</td>\n",
       "    </tr>\n",
       "    <tr>\n",
       "      <th>4</th>\n",
       "      <td>4</td>\n",
       "      <td>66bd55df-eaf0-49c8-b9e1-7759b85e9325</td>\n",
       "      <td>2021-09-23 02:00:05.004</td>\n",
       "      <td>NaN</td>\n",
       "      <td>NaN</td>\n",
       "      <td>NaN</td>\n",
       "      <td>NaN</td>\n",
       "    </tr>\n",
       "  </tbody>\n",
       "</table>\n",
       "</div>"
      ],
      "text/plain": [
       "   Unnamed: 0                            VEHICLE_ID                TIMESTAMP  \\\n",
       "0           0  66bd55df-eaf0-49c8-b9e1-7759b85e9325  2021-09-23 01:45:42.018   \n",
       "1           1  66bd55df-eaf0-49c8-b9e1-7759b85e9325  2021-09-23 01:58:08.017   \n",
       "2           2  66bd55df-eaf0-49c8-b9e1-7759b85e9325  2021-09-23 01:57:02.031   \n",
       "3           3  66bd55df-eaf0-49c8-b9e1-7759b85e9325  2021-09-23 01:38:57.002   \n",
       "4           4  66bd55df-eaf0-49c8-b9e1-7759b85e9325  2021-09-23 02:00:05.004   \n",
       "\n",
       "   SPEED IGNITION_STATUS  EV_BATTERY_LEVEL  ODOMETER  \n",
       "0    NaN             NaN               NaN       NaN  \n",
       "1    NaN             NaN               NaN       NaN  \n",
       "2    NaN             NaN               NaN   38685.9  \n",
       "3    0.0              on               NaN       NaN  \n",
       "4    NaN             NaN               NaN       NaN  "
      ]
     },
     "execution_count": 34,
     "metadata": {},
     "output_type": "execute_result"
    }
   ],
   "source": [
    "df.head()\n"
   ]
  },
  {
   "cell_type": "markdown",
   "metadata": {},
   "source": [
    "**converting time stamps**"
   ]
  },
  {
   "cell_type": "code",
   "execution_count": 35,
   "metadata": {
    "colab": {
     "base_uri": "https://localhost:8080/",
     "height": 310
    },
    "id": "gQewOsDnwp1s",
    "outputId": "c9fbf423-df27-4177-e3f4-deaf256d4aee"
   },
   "outputs": [
    {
     "data": {
      "text/html": [
       "<div>\n",
       "<style scoped>\n",
       "    .dataframe tbody tr th:only-of-type {\n",
       "        vertical-align: middle;\n",
       "    }\n",
       "\n",
       "    .dataframe tbody tr th {\n",
       "        vertical-align: top;\n",
       "    }\n",
       "\n",
       "    .dataframe thead th {\n",
       "        text-align: right;\n",
       "    }\n",
       "</style>\n",
       "<table border=\"1\" class=\"dataframe\">\n",
       "  <thead>\n",
       "    <tr style=\"text-align: right;\">\n",
       "      <th></th>\n",
       "      <th>Unnamed: 0</th>\n",
       "      <th>VEHICLE_ID</th>\n",
       "      <th>TIMESTAMP</th>\n",
       "      <th>SPEED</th>\n",
       "      <th>IGNITION_STATUS</th>\n",
       "      <th>EV_BATTERY_LEVEL</th>\n",
       "      <th>ODOMETER</th>\n",
       "      <th>date</th>\n",
       "      <th>time</th>\n",
       "    </tr>\n",
       "  </thead>\n",
       "  <tbody>\n",
       "    <tr>\n",
       "      <th>0</th>\n",
       "      <td>0</td>\n",
       "      <td>66bd55df-eaf0-49c8-b9e1-7759b85e9325</td>\n",
       "      <td>2021-09-23 01:45:42.018</td>\n",
       "      <td>NaN</td>\n",
       "      <td>NaN</td>\n",
       "      <td>NaN</td>\n",
       "      <td>NaN</td>\n",
       "      <td>2021-09-23</td>\n",
       "      <td>01:45:42.018000</td>\n",
       "    </tr>\n",
       "    <tr>\n",
       "      <th>1</th>\n",
       "      <td>1</td>\n",
       "      <td>66bd55df-eaf0-49c8-b9e1-7759b85e9325</td>\n",
       "      <td>2021-09-23 01:58:08.017</td>\n",
       "      <td>NaN</td>\n",
       "      <td>NaN</td>\n",
       "      <td>NaN</td>\n",
       "      <td>NaN</td>\n",
       "      <td>2021-09-23</td>\n",
       "      <td>01:58:08.017000</td>\n",
       "    </tr>\n",
       "    <tr>\n",
       "      <th>2</th>\n",
       "      <td>2</td>\n",
       "      <td>66bd55df-eaf0-49c8-b9e1-7759b85e9325</td>\n",
       "      <td>2021-09-23 01:57:02.031</td>\n",
       "      <td>NaN</td>\n",
       "      <td>NaN</td>\n",
       "      <td>NaN</td>\n",
       "      <td>38685.9</td>\n",
       "      <td>2021-09-23</td>\n",
       "      <td>01:57:02.031000</td>\n",
       "    </tr>\n",
       "    <tr>\n",
       "      <th>3</th>\n",
       "      <td>3</td>\n",
       "      <td>66bd55df-eaf0-49c8-b9e1-7759b85e9325</td>\n",
       "      <td>2021-09-23 01:38:57.002</td>\n",
       "      <td>0.0</td>\n",
       "      <td>on</td>\n",
       "      <td>NaN</td>\n",
       "      <td>NaN</td>\n",
       "      <td>2021-09-23</td>\n",
       "      <td>01:38:57.002000</td>\n",
       "    </tr>\n",
       "    <tr>\n",
       "      <th>4</th>\n",
       "      <td>4</td>\n",
       "      <td>66bd55df-eaf0-49c8-b9e1-7759b85e9325</td>\n",
       "      <td>2021-09-23 02:00:05.004</td>\n",
       "      <td>NaN</td>\n",
       "      <td>NaN</td>\n",
       "      <td>NaN</td>\n",
       "      <td>NaN</td>\n",
       "      <td>2021-09-23</td>\n",
       "      <td>02:00:05.004000</td>\n",
       "    </tr>\n",
       "  </tbody>\n",
       "</table>\n",
       "</div>"
      ],
      "text/plain": [
       "   Unnamed: 0                            VEHICLE_ID                TIMESTAMP  \\\n",
       "0           0  66bd55df-eaf0-49c8-b9e1-7759b85e9325  2021-09-23 01:45:42.018   \n",
       "1           1  66bd55df-eaf0-49c8-b9e1-7759b85e9325  2021-09-23 01:58:08.017   \n",
       "2           2  66bd55df-eaf0-49c8-b9e1-7759b85e9325  2021-09-23 01:57:02.031   \n",
       "3           3  66bd55df-eaf0-49c8-b9e1-7759b85e9325  2021-09-23 01:38:57.002   \n",
       "4           4  66bd55df-eaf0-49c8-b9e1-7759b85e9325  2021-09-23 02:00:05.004   \n",
       "\n",
       "   SPEED IGNITION_STATUS  EV_BATTERY_LEVEL  ODOMETER        date  \\\n",
       "0    NaN             NaN               NaN       NaN  2021-09-23   \n",
       "1    NaN             NaN               NaN       NaN  2021-09-23   \n",
       "2    NaN             NaN               NaN   38685.9  2021-09-23   \n",
       "3    0.0              on               NaN       NaN  2021-09-23   \n",
       "4    NaN             NaN               NaN       NaN  2021-09-23   \n",
       "\n",
       "              time  \n",
       "0  01:45:42.018000  \n",
       "1  01:58:08.017000  \n",
       "2  01:57:02.031000  \n",
       "3  01:38:57.002000  \n",
       "4  02:00:05.004000  "
      ]
     },
     "execution_count": 35,
     "metadata": {},
     "output_type": "execute_result"
    }
   ],
   "source": [
    "df['datetime'] = pd.to_datetime(df['TIMESTAMP'])\n",
    "\n",
    "\n",
    "df['date'] = df['datetime'].dt.date\n",
    "df['time'] = df['datetime'].dt.time\n",
    "\n",
    "\n",
    "df.drop(columns=['datetime'], inplace=True)\n",
    "df.head()\n"
   ]
  },
  {
   "cell_type": "code",
   "execution_count": 36,
   "metadata": {
    "colab": {
     "base_uri": "https://localhost:8080/"
    },
    "id": "mteORRcWwp1s",
    "outputId": "90712fd8-4b87-48ac-9768-d37afcc7b5d9"
   },
   "outputs": [
    {
     "name": "stdout",
     "output_type": "stream",
     "text": [
      "<class 'pandas.core.frame.DataFrame'>\n",
      "RangeIndex: 1823552 entries, 0 to 1823551\n",
      "Data columns (total 9 columns):\n",
      " #   Column            Dtype  \n",
      "---  ------            -----  \n",
      " 0   Unnamed: 0        int64  \n",
      " 1   VEHICLE_ID        object \n",
      " 2   TIMESTAMP         object \n",
      " 3   SPEED             float64\n",
      " 4   IGNITION_STATUS   object \n",
      " 5   EV_BATTERY_LEVEL  float64\n",
      " 6   ODOMETER          float64\n",
      " 7   date              object \n",
      " 8   time              object \n",
      "dtypes: float64(3), int64(1), object(5)\n",
      "memory usage: 125.2+ MB\n"
     ]
    }
   ],
   "source": [
    "df.info()\n"
   ]
  },
  {
   "cell_type": "code",
   "execution_count": 37,
   "metadata": {
    "colab": {
     "base_uri": "https://localhost:8080/"
    },
    "id": "5Kq8CvCWwp1s",
    "outputId": "2bba7b24-30be-480c-b2ae-4c9e1dcb8e15"
   },
   "outputs": [
    {
     "data": {
      "text/plain": [
       "Unnamed: 0                0\n",
       "VEHICLE_ID                0\n",
       "TIMESTAMP                 0\n",
       "SPEED               1473737\n",
       "IGNITION_STATUS     1596536\n",
       "EV_BATTERY_LEVEL    1436376\n",
       "ODOMETER            1342213\n",
       "date                      0\n",
       "time                      0\n",
       "dtype: int64"
      ]
     },
     "execution_count": 37,
     "metadata": {},
     "output_type": "execute_result"
    }
   ],
   "source": [
    "df.isna().sum()"
   ]
  },
  {
   "cell_type": "code",
   "execution_count": 38,
   "metadata": {
    "id": "fIJc0Y_Symav"
   },
   "outputs": [],
   "source": [
    "df.dropna(subset=['date','time'])\n",
    "df.sort_values(by='TIMESTAMP',inplace=True)\n",
    "df['SPEED'] = pd.to_numeric(df['SPEED'])"
   ]
  },
  {
   "cell_type": "code",
   "execution_count": 39,
   "metadata": {
    "colab": {
     "base_uri": "https://localhost:8080/"
    },
    "id": "_RZVC1Kgwp1t",
    "outputId": "aeb5193e-2197-417b-b73f-9196f7de6b61"
   },
   "outputs": [
    {
     "name": "stdout",
     "output_type": "stream",
     "text": [
      "Requirement already satisfied: seaborn in c:\\users\\anton\\anaconda3\\lib\\site-packages (0.11.2)\n",
      "Requirement already satisfied: matplotlib>=2.2 in c:\\users\\anton\\anaconda3\\lib\\site-packages (from seaborn) (3.5.1)\n",
      "Requirement already satisfied: scipy>=1.0 in c:\\users\\anton\\anaconda3\\lib\\site-packages (from seaborn) (1.7.3)\n",
      "Requirement already satisfied: pandas>=0.23 in c:\\users\\anton\\anaconda3\\lib\\site-packages (from seaborn) (1.4.2)\n",
      "Requirement already satisfied: numpy>=1.15 in c:\\users\\anton\\anaconda3\\lib\\site-packages (from seaborn) (1.22.4)\n",
      "Requirement already satisfied: fonttools>=4.22.0 in c:\\users\\anton\\anaconda3\\lib\\site-packages (from matplotlib>=2.2->seaborn) (4.25.0)\n",
      "Requirement already satisfied: cycler>=0.10 in c:\\users\\anton\\anaconda3\\lib\\site-packages (from matplotlib>=2.2->seaborn) (0.11.0)\n",
      "Requirement already satisfied: kiwisolver>=1.0.1 in c:\\users\\anton\\anaconda3\\lib\\site-packages (from matplotlib>=2.2->seaborn) (1.3.2)\n",
      "Requirement already satisfied: packaging>=20.0 in c:\\users\\anton\\anaconda3\\lib\\site-packages (from matplotlib>=2.2->seaborn) (21.3)\n",
      "Requirement already satisfied: python-dateutil>=2.7 in c:\\users\\anton\\anaconda3\\lib\\site-packages (from matplotlib>=2.2->seaborn) (2.8.2)\n",
      "Requirement already satisfied: pillow>=6.2.0 in c:\\users\\anton\\anaconda3\\lib\\site-packages (from matplotlib>=2.2->seaborn) (9.0.1)\n",
      "Requirement already satisfied: pyparsing>=2.2.1 in c:\\users\\anton\\anaconda3\\lib\\site-packages (from matplotlib>=2.2->seaborn) (3.0.4)\n",
      "Requirement already satisfied: pytz>=2020.1 in c:\\users\\anton\\anaconda3\\lib\\site-packages (from pandas>=0.23->seaborn) (2021.3)\n",
      "Requirement already satisfied: six>=1.5 in c:\\users\\anton\\anaconda3\\lib\\site-packages (from python-dateutil>=2.7->matplotlib>=2.2->seaborn) (1.16.0)\n"
     ]
    }
   ],
   "source": [
    "!pip install seaborn"
   ]
  },
  {
   "cell_type": "code",
   "execution_count": 40,
   "metadata": {
    "id": "IvimYJ72wp1t"
   },
   "outputs": [],
   "source": [
    "\n",
    "import matplotlib.pyplot as plt\n",
    "import seaborn as sns\n"
   ]
  },
  {
   "cell_type": "markdown",
   "metadata": {
    "id": "nn9si-3Z-Lsq"
   },
   "source": [
    "# DATA PREPROCESSING\n",
    "WE STARTED DATA PREPROCESSING BY REMOVING ROWS WHICH HAVE EV CHARGE PERCENTAGE MORE THAN 100\n"
   ]
  },
  {
   "cell_type": "markdown",
   "metadata": {},
   "source": [
    "removing rows in battery column which has battery percentage more than 100"
   ]
  },
  {
   "cell_type": "code",
   "execution_count": 41,
   "metadata": {
    "colab": {
     "base_uri": "https://localhost:8080/",
     "height": 487
    },
    "id": "qFmrCzcAwp1t",
    "outputId": "176ed106-ef58-47fb-9777-353954ccecb5"
   },
   "outputs": [
    {
     "data": {
      "image/png": "[encoded data removed]",
      "text/plain": [
       "<Figure size 576x360 with 1 Axes>"
      ]
     },
     "metadata": {
      "needs_background": "light"
     },
     "output_type": "display_data"
    }
   ],
   "source": [
    "plt.figure(figsize=(8, 5))\n",
    "sns.boxplot(data=df, x='IGNITION_STATUS', y='EV_BATTERY_LEVEL')\n",
    "plt.title('EV Battery Level by Ignition Status')\n",
    "plt.xlabel('Ignition Status')\n",
    "plt.ylabel('EV Battery Level')\n",
    "plt.show()"
   ]
  },
  {
   "cell_type": "code",
   "execution_count": 42,
   "metadata": {
    "colab": {
     "base_uri": "https://localhost:8080/"
    },
    "id": "Dh2WORs723qC",
    "outputId": "9da3d0da-4e51-45ad-9ee3-febb508a4d9a"
   },
   "outputs": [
    {
     "data": {
      "text/plain": [
       "Unnamed: 0                0\n",
       "VEHICLE_ID                0\n",
       "TIMESTAMP                 0\n",
       "SPEED               1473737\n",
       "IGNITION_STATUS     1596536\n",
       "EV_BATTERY_LEVEL    1436376\n",
       "ODOMETER            1342213\n",
       "date                      0\n",
       "time                      0\n",
       "dtype: int64"
      ]
     },
     "execution_count": 42,
     "metadata": {},
     "output_type": "execute_result"
    }
   ],
   "source": [
    "df.isna().sum()\n",
    "\n"
   ]
  },
  {
   "cell_type": "code",
   "execution_count": 43,
   "metadata": {
    "id": "Um-HunH7QtHV"
   },
   "outputs": [],
   "source": [
    "import numpy as np"
   ]
  },
  {
   "cell_type": "code",
   "execution_count": 44,
   "metadata": {
    "colab": {
     "base_uri": "https://localhost:8080/"
    },
    "id": "J5WjlX8XO9a1",
    "outputId": "38a75023-1a60-448e-ca4b-8db5548578a7"
   },
   "outputs": [],
   "source": [
    "df['EV_BATTERY_LEVEL'].fillna(0, inplace=True)\n",
    "df = df[df['EV_BATTERY_LEVEL'] <= 100]\n",
    "df['EV_BATTERY_LEVEL'].replace(0, np.nan, inplace=True)"
   ]
  },
  {
   "cell_type": "markdown",
   "metadata": {
    "id": "iW4YLU3n_uuK"
   },
   "source": [
    "# REMOVING ROWS WHICH HAS NULL VALUES IN ALL SPEED, IGNITION STATUS, EV BATTERY LEVEL,ODOMETER:\n"
   ]
  },
  {
   "cell_type": "code",
   "execution_count": 45,
   "metadata": {
    "id": "e5VTHIxw-KxY"
   },
   "outputs": [],
   "source": [
    "columns_to_check = ['SPEED', 'IGNITION_STATUS', 'EV_BATTERY_LEVEL', 'ODOMETER']\n",
    "df = df.dropna(subset=columns_to_check, how='all')\n"
   ]
  },
  {
   "cell_type": "code",
   "execution_count": 46,
   "metadata": {
    "colab": {
     "base_uri": "https://localhost:8080/"
    },
    "id": "UFOgxGcgBQZk",
    "outputId": "d672b6fc-c52e-4e61-dffa-f2d9b18856c8"
   },
   "outputs": [
    {
     "data": {
      "text/plain": [
       "Unnamed: 0               0\n",
       "VEHICLE_ID               0\n",
       "TIMESTAMP                0\n",
       "SPEED               668738\n",
       "IGNITION_STATUS     791479\n",
       "EV_BATTERY_LEVEL    632476\n",
       "ODOMETER            537276\n",
       "date                     0\n",
       "time                     0\n",
       "dtype: int64"
      ]
     },
     "execution_count": 46,
     "metadata": {},
     "output_type": "execute_result"
    }
   ],
   "source": [
    "df.isna().sum()"
   ]
  },
  {
   "cell_type": "code",
   "execution_count": 47,
   "metadata": {
    "colab": {
     "base_uri": "https://localhost:8080/",
     "height": 310
    },
    "id": "3qGEdqwLJBI7",
    "outputId": "a900cd04-d9bb-4ef0-d705-5c5afe087310"
   },
   "outputs": [
    {
     "data": {
      "text/html": [
       "<div>\n",
       "<style scoped>\n",
       "    .dataframe tbody tr th:only-of-type {\n",
       "        vertical-align: middle;\n",
       "    }\n",
       "\n",
       "    .dataframe tbody tr th {\n",
       "        vertical-align: top;\n",
       "    }\n",
       "\n",
       "    .dataframe thead th {\n",
       "        text-align: right;\n",
       "    }\n",
       "</style>\n",
       "<table border=\"1\" class=\"dataframe\">\n",
       "  <thead>\n",
       "    <tr style=\"text-align: right;\">\n",
       "      <th></th>\n",
       "      <th>Unnamed: 0</th>\n",
       "      <th>VEHICLE_ID</th>\n",
       "      <th>TIMESTAMP</th>\n",
       "      <th>SPEED</th>\n",
       "      <th>IGNITION_STATUS</th>\n",
       "      <th>EV_BATTERY_LEVEL</th>\n",
       "      <th>ODOMETER</th>\n",
       "      <th>date</th>\n",
       "      <th>time</th>\n",
       "    </tr>\n",
       "  </thead>\n",
       "  <tbody>\n",
       "    <tr>\n",
       "      <th>698740</th>\n",
       "      <td>698740</td>\n",
       "      <td>ae912623-e122-4bfb-b2a1-7d407ea42b1b</td>\n",
       "      <td>2021-09-01 00:00:02.569</td>\n",
       "      <td>13.0</td>\n",
       "      <td>NaN</td>\n",
       "      <td>NaN</td>\n",
       "      <td>30207.4</td>\n",
       "      <td>2021-09-01</td>\n",
       "      <td>00:00:02.569000</td>\n",
       "    </tr>\n",
       "    <tr>\n",
       "      <th>699484</th>\n",
       "      <td>699484</td>\n",
       "      <td>fc86bd41-dd55-4d15-bb3f-35e31c7759e6</td>\n",
       "      <td>2021-09-01 00:00:09.037</td>\n",
       "      <td>NaN</td>\n",
       "      <td>NaN</td>\n",
       "      <td>NaN</td>\n",
       "      <td>35817.8</td>\n",
       "      <td>2021-09-01</td>\n",
       "      <td>00:00:09.037000</td>\n",
       "    </tr>\n",
       "    <tr>\n",
       "      <th>698756</th>\n",
       "      <td>698756</td>\n",
       "      <td>fc86bd41-dd55-4d15-bb3f-35e31c7759e6</td>\n",
       "      <td>2021-09-01 00:00:23.002</td>\n",
       "      <td>20.5</td>\n",
       "      <td>on</td>\n",
       "      <td>NaN</td>\n",
       "      <td>NaN</td>\n",
       "      <td>2021-09-01</td>\n",
       "      <td>00:00:23.002000</td>\n",
       "    </tr>\n",
       "    <tr>\n",
       "      <th>699302</th>\n",
       "      <td>699302</td>\n",
       "      <td>fc86bd41-dd55-4d15-bb3f-35e31c7759e6</td>\n",
       "      <td>2021-09-01 00:00:24.004</td>\n",
       "      <td>NaN</td>\n",
       "      <td>NaN</td>\n",
       "      <td>NaN</td>\n",
       "      <td>35817.8</td>\n",
       "      <td>2021-09-01</td>\n",
       "      <td>00:00:24.004000</td>\n",
       "    </tr>\n",
       "    <tr>\n",
       "      <th>698741</th>\n",
       "      <td>698741</td>\n",
       "      <td>39424065-b3be-45e5-8f7d-b7f16a6c190a</td>\n",
       "      <td>2021-09-01 00:00:25.748</td>\n",
       "      <td>NaN</td>\n",
       "      <td>NaN</td>\n",
       "      <td>NaN</td>\n",
       "      <td>47867.5</td>\n",
       "      <td>2021-09-01</td>\n",
       "      <td>00:00:25.748000</td>\n",
       "    </tr>\n",
       "  </tbody>\n",
       "</table>\n",
       "</div>"
      ],
      "text/plain": [
       "        Unnamed: 0                            VEHICLE_ID  \\\n",
       "698740      698740  ae912623-e122-4bfb-b2a1-7d407ea42b1b   \n",
       "699484      699484  fc86bd41-dd55-4d15-bb3f-35e31c7759e6   \n",
       "698756      698756  fc86bd41-dd55-4d15-bb3f-35e31c7759e6   \n",
       "699302      699302  fc86bd41-dd55-4d15-bb3f-35e31c7759e6   \n",
       "698741      698741  39424065-b3be-45e5-8f7d-b7f16a6c190a   \n",
       "\n",
       "                      TIMESTAMP  SPEED IGNITION_STATUS  EV_BATTERY_LEVEL  \\\n",
       "698740  2021-09-01 00:00:02.569   13.0             NaN               NaN   \n",
       "699484  2021-09-01 00:00:09.037    NaN             NaN               NaN   \n",
       "698756  2021-09-01 00:00:23.002   20.5              on               NaN   \n",
       "699302  2021-09-01 00:00:24.004    NaN             NaN               NaN   \n",
       "698741  2021-09-01 00:00:25.748    NaN             NaN               NaN   \n",
       "\n",
       "        ODOMETER        date             time  \n",
       "698740   30207.4  2021-09-01  00:00:02.569000  \n",
       "699484   35817.8  2021-09-01  00:00:09.037000  \n",
       "698756       NaN  2021-09-01  00:00:23.002000  \n",
       "699302   35817.8  2021-09-01  00:00:24.004000  \n",
       "698741   47867.5  2021-09-01  00:00:25.748000  "
      ]
     },
     "execution_count": 47,
     "metadata": {},
     "output_type": "execute_result"
    }
   ],
   "source": [
    "df.head()"
   ]
  },
  {
   "cell_type": "markdown",
   "metadata": {
    "id": "-HAjTupfQ-ms"
   },
   "source": [
    "## QUESTION 1a)"
   ]
  },
  {
   "cell_type": "code",
   "execution_count": 48,
   "metadata": {
    "colab": {
     "base_uri": "https://localhost:8080/",
     "height": 423
    },
    "id": "cIBf5FjxJgAo",
    "outputId": "78c10d0f-7b00-42bb-b480-f48738333b02"
   },
   "outputs": [
    {
     "data": {
      "text/html": [
       "<div>\n",
       "<style scoped>\n",
       "    .dataframe tbody tr th:only-of-type {\n",
       "        vertical-align: middle;\n",
       "    }\n",
       "\n",
       "    .dataframe tbody tr th {\n",
       "        vertical-align: top;\n",
       "    }\n",
       "\n",
       "    .dataframe thead th {\n",
       "        text-align: right;\n",
       "    }\n",
       "</style>\n",
       "<table border=\"1\" class=\"dataframe\">\n",
       "  <thead>\n",
       "    <tr style=\"text-align: right;\">\n",
       "      <th></th>\n",
       "      <th>timestamp</th>\n",
       "      <th>event</th>\n",
       "    </tr>\n",
       "  </thead>\n",
       "  <tbody>\n",
       "    <tr>\n",
       "      <th>0</th>\n",
       "      <td>2021-09-01 00:00:09.037</td>\n",
       "      <td>ignitionOn</td>\n",
       "    </tr>\n",
       "    <tr>\n",
       "      <th>1</th>\n",
       "      <td>2021-09-01 00:00:23.002</td>\n",
       "      <td>ignitionOn</td>\n",
       "    </tr>\n",
       "    <tr>\n",
       "      <th>2</th>\n",
       "      <td>2021-09-01 00:00:24.004</td>\n",
       "      <td>ignitionOn</td>\n",
       "    </tr>\n",
       "    <tr>\n",
       "      <th>3</th>\n",
       "      <td>2021-09-01 00:00:25.748</td>\n",
       "      <td>ignitionOn</td>\n",
       "    </tr>\n",
       "    <tr>\n",
       "      <th>4</th>\n",
       "      <td>2021-09-01 00:00:54.011</td>\n",
       "      <td>ignitionOn</td>\n",
       "    </tr>\n",
       "    <tr>\n",
       "      <th>...</th>\n",
       "      <td>...</td>\n",
       "      <td>...</td>\n",
       "    </tr>\n",
       "    <tr>\n",
       "      <th>1010224</th>\n",
       "      <td>2023-01-30 23:59:44.017000</td>\n",
       "      <td>ignitionOn</td>\n",
       "    </tr>\n",
       "    <tr>\n",
       "      <th>1010225</th>\n",
       "      <td>2023-01-30 23:59:48.019000</td>\n",
       "      <td>ignitionOn</td>\n",
       "    </tr>\n",
       "    <tr>\n",
       "      <th>1010226</th>\n",
       "      <td>2023-01-30 23:59:55.011000</td>\n",
       "      <td>ignitionOn</td>\n",
       "    </tr>\n",
       "    <tr>\n",
       "      <th>1010227</th>\n",
       "      <td>2023-01-30 23:59:55.013000</td>\n",
       "      <td>ignitionOn</td>\n",
       "    </tr>\n",
       "    <tr>\n",
       "      <th>1010228</th>\n",
       "      <td>2023-01-30 23:59:57.015000</td>\n",
       "      <td>ignitionOn</td>\n",
       "    </tr>\n",
       "  </tbody>\n",
       "</table>\n",
       "<p>1010229 rows × 2 columns</p>\n",
       "</div>"
      ],
      "text/plain": [
       "                          timestamp       event\n",
       "0           2021-09-01 00:00:09.037  ignitionOn\n",
       "1           2021-09-01 00:00:23.002  ignitionOn\n",
       "2           2021-09-01 00:00:24.004  ignitionOn\n",
       "3           2021-09-01 00:00:25.748  ignitionOn\n",
       "4           2021-09-01 00:00:54.011  ignitionOn\n",
       "...                             ...         ...\n",
       "1010224  2023-01-30 23:59:44.017000  ignitionOn\n",
       "1010225  2023-01-30 23:59:48.019000  ignitionOn\n",
       "1010226  2023-01-30 23:59:55.011000  ignitionOn\n",
       "1010227  2023-01-30 23:59:55.013000  ignitionOn\n",
       "1010228  2023-01-30 23:59:57.015000  ignitionOn\n",
       "\n",
       "[1010229 rows x 2 columns]"
      ]
     },
     "execution_count": 48,
     "metadata": {},
     "output_type": "execute_result"
    }
   ],
   "source": [
    "ignition_events = []\n",
    "\n",
    "# Iterate through telemetry data to detect ignition events\n",
    "previous_state = None\n",
    "for index, row in df.iterrows():\n",
    "    current_state = row['TIMESTAMP']  # Replace with the correct column name\n",
    "\n",
    "    if previous_state is not None and current_state != previous_state:\n",
    "        event = 'ignitionOff' if current_state == 'Off' else 'ignitionOn'\n",
    "        ignition_events.append({'timestamp': row['TIMESTAMP'], 'event': event})\n",
    "\n",
    "    previous_state = current_state\n",
    "\n",
    "# Create a DataFrame from the list of ignition events\n",
    "ignition_events_df = pd.DataFrame(ignition_events)\n",
    "\n",
    "# Display the resulting ignition events table\n",
    "ignition_events_df\n",
    "\n",
    "\n",
    "\n"
   ]
  },
  {
   "cell_type": "markdown",
   "metadata": {
    "id": "wFptXH1TRJhu"
   },
   "source": [
    "# QUESTION 1b)"
   ]
  },
  {
   "cell_type": "code",
   "execution_count": 49,
   "metadata": {
    "colab": {
     "base_uri": "https://localhost:8080/",
     "height": 206
    },
    "id": "-QhtdW9HR6SV",
    "outputId": "7b19a2a2-be2f-4e1e-db32-994ea25cb360"
   },
   "outputs": [
    {
     "data": {
      "text/html": [
       "<div>\n",
       "<style scoped>\n",
       "    .dataframe tbody tr th:only-of-type {\n",
       "        vertical-align: middle;\n",
       "    }\n",
       "\n",
       "    .dataframe tbody tr th {\n",
       "        vertical-align: top;\n",
       "    }\n",
       "\n",
       "    .dataframe thead th {\n",
       "        text-align: right;\n",
       "    }\n",
       "</style>\n",
       "<table border=\"1\" class=\"dataframe\">\n",
       "  <thead>\n",
       "    <tr style=\"text-align: right;\">\n",
       "      <th></th>\n",
       "      <th>Unnamed: 0</th>\n",
       "      <th>CTS</th>\n",
       "      <th>PNID</th>\n",
       "      <th>NAME</th>\n",
       "      <th>VAL</th>\n",
       "    </tr>\n",
       "  </thead>\n",
       "  <tbody>\n",
       "    <tr>\n",
       "      <th>0</th>\n",
       "      <td>0</td>\n",
       "      <td>2021-12-01 17:58:27 IST+0530</td>\n",
       "      <td>206958332</td>\n",
       "      <td>IGN_CYL</td>\n",
       "      <td>OFF</td>\n",
       "    </tr>\n",
       "    <tr>\n",
       "      <th>1</th>\n",
       "      <td>1</td>\n",
       "      <td>2021-12-01 17:58:27 IST+0530</td>\n",
       "      <td>206958332</td>\n",
       "      <td>IGN_CYL</td>\n",
       "      <td>OFF</td>\n",
       "    </tr>\n",
       "    <tr>\n",
       "      <th>2</th>\n",
       "      <td>2</td>\n",
       "      <td>2021-12-01 17:56:24 IST+0530</td>\n",
       "      <td>206958332</td>\n",
       "      <td>IGN_CYL</td>\n",
       "      <td>ON</td>\n",
       "    </tr>\n",
       "    <tr>\n",
       "      <th>3</th>\n",
       "      <td>3</td>\n",
       "      <td>2021-12-01 17:56:24 IST+0530</td>\n",
       "      <td>206958332</td>\n",
       "      <td>CHARGE_STATE</td>\n",
       "      <td>50.1</td>\n",
       "    </tr>\n",
       "    <tr>\n",
       "      <th>4</th>\n",
       "      <td>4</td>\n",
       "      <td>2021-12-01 17:56:24 IST+0530</td>\n",
       "      <td>206958332</td>\n",
       "      <td>IGN_CYL</td>\n",
       "      <td>ON</td>\n",
       "    </tr>\n",
       "  </tbody>\n",
       "</table>\n",
       "</div>"
      ],
      "text/plain": [
       "   Unnamed: 0                           CTS       PNID          NAME   VAL\n",
       "0           0  2021-12-01 17:58:27 IST+0530  206958332       IGN_CYL   OFF\n",
       "1           1  2021-12-01 17:58:27 IST+0530  206958332       IGN_CYL   OFF\n",
       "2           2  2021-12-01 17:56:24 IST+0530  206958332       IGN_CYL    ON\n",
       "3           3  2021-12-01 17:56:24 IST+0530  206958332  CHARGE_STATE  50.1\n",
       "4           4  2021-12-01 17:56:24 IST+0530  206958332       IGN_CYL    ON"
      ]
     },
     "execution_count": 49,
     "metadata": {},
     "output_type": "execute_result"
    }
   ],
   "source": [
    "df2.head()"
   ]
  },
  {
   "cell_type": "code",
   "execution_count": 50,
   "metadata": {
    "colab": {
     "base_uri": "https://localhost:8080/",
     "height": 423
    },
    "id": "2Oi99tmKLXbF",
    "outputId": "dfd968e9-78c5-42a3-c7c7-83b1a003ba8e"
   },
   "outputs": [
    {
     "data": {
      "text/html": [
       "<div>\n",
       "<style scoped>\n",
       "    .dataframe tbody tr th:only-of-type {\n",
       "        vertical-align: middle;\n",
       "    }\n",
       "\n",
       "    .dataframe tbody tr th {\n",
       "        vertical-align: top;\n",
       "    }\n",
       "\n",
       "    .dataframe thead th {\n",
       "        text-align: right;\n",
       "    }\n",
       "</style>\n",
       "<table border=\"1\" class=\"dataframe\">\n",
       "  <thead>\n",
       "    <tr style=\"text-align: right;\">\n",
       "      <th></th>\n",
       "      <th>VAL</th>\n",
       "      <th>event</th>\n",
       "    </tr>\n",
       "  </thead>\n",
       "  <tbody>\n",
       "    <tr>\n",
       "      <th>0</th>\n",
       "      <td>OFF</td>\n",
       "      <td>NaN</td>\n",
       "    </tr>\n",
       "    <tr>\n",
       "      <th>1</th>\n",
       "      <td>OFF</td>\n",
       "      <td>NaN</td>\n",
       "    </tr>\n",
       "    <tr>\n",
       "      <th>2</th>\n",
       "      <td>ON</td>\n",
       "      <td>NaN</td>\n",
       "    </tr>\n",
       "    <tr>\n",
       "      <th>4</th>\n",
       "      <td>ON</td>\n",
       "      <td>NaN</td>\n",
       "    </tr>\n",
       "    <tr>\n",
       "      <th>6</th>\n",
       "      <td>ON</td>\n",
       "      <td>NaN</td>\n",
       "    </tr>\n",
       "    <tr>\n",
       "      <th>...</th>\n",
       "      <td>...</td>\n",
       "      <td>...</td>\n",
       "    </tr>\n",
       "    <tr>\n",
       "      <th>68662</th>\n",
       "      <td>OFF</td>\n",
       "      <td>NaN</td>\n",
       "    </tr>\n",
       "    <tr>\n",
       "      <th>68664</th>\n",
       "      <td>OFF</td>\n",
       "      <td>NaN</td>\n",
       "    </tr>\n",
       "    <tr>\n",
       "      <th>68665</th>\n",
       "      <td>OFF</td>\n",
       "      <td>NaN</td>\n",
       "    </tr>\n",
       "    <tr>\n",
       "      <th>68666</th>\n",
       "      <td>ON</td>\n",
       "      <td>NaN</td>\n",
       "    </tr>\n",
       "    <tr>\n",
       "      <th>68668</th>\n",
       "      <td>ON</td>\n",
       "      <td>NaN</td>\n",
       "    </tr>\n",
       "  </tbody>\n",
       "</table>\n",
       "<p>30880 rows × 2 columns</p>\n",
       "</div>"
      ],
      "text/plain": [
       "       VAL event\n",
       "0      OFF   NaN\n",
       "1      OFF   NaN\n",
       "2       ON   NaN\n",
       "4       ON   NaN\n",
       "6       ON   NaN\n",
       "...    ...   ...\n",
       "68662  OFF   NaN\n",
       "68664  OFF   NaN\n",
       "68665  OFF   NaN\n",
       "68666   ON   NaN\n",
       "68668   ON   NaN\n",
       "\n",
       "[30880 rows x 2 columns]"
      ]
     },
     "execution_count": 50,
     "metadata": {},
     "output_type": "execute_result"
    }
   ],
   "source": [
    "ignition_events = df2[df2['NAME'] == 'IGN_CYL']\n",
    "ignition_events = ignition_events[ignition_events['VAL'].isin(['ON', 'OFF'])]\n",
    "\n",
    "# Create a dictionary to map \"val\" values to \"event\" names\n",
    "val_to_event = {'on': 'ignition on', 'off': 'ignition off'}\n",
    "\n",
    "# Create the \"event\" column using the dictionary mapping\n",
    "ignition_events['event'] = ignition_events['VAL'].map(val_to_event)\n",
    "\n",
    "# Display the filtered and enriched ignition events\n",
    "ignition_events[['VAL', 'event']]"
   ]
  },
  {
   "cell_type": "markdown",
   "metadata": {
    "id": "ryhn6e5uRHcF"
   },
   "source": []
  },
  {
   "cell_type": "markdown",
   "metadata": {
    "id": "vmKFlF7KbJYP"
   },
   "source": [
    "# QUESTION 1C)"
   ]
  },
  {
   "cell_type": "code",
   "execution_count": 51,
   "metadata": {
    "colab": {
     "base_uri": "https://localhost:8080/",
     "height": 245
    },
    "id": "Tq-aTSHNbMvV",
    "outputId": "a03ae83f-ca87-4c36-bb03-ce88cf09750c"
   },
   "outputs": [
    {
     "data": {
      "text/html": [
       "<div>\n",
       "<style scoped>\n",
       "    .dataframe tbody tr th:only-of-type {\n",
       "        vertical-align: middle;\n",
       "    }\n",
       "\n",
       "    .dataframe tbody tr th {\n",
       "        vertical-align: top;\n",
       "    }\n",
       "\n",
       "    .dataframe thead th {\n",
       "        text-align: right;\n",
       "    }\n",
       "</style>\n",
       "<table border=\"1\" class=\"dataframe\">\n",
       "  <thead>\n",
       "    <tr style=\"text-align: right;\">\n",
       "      <th></th>\n",
       "      <th>CTS</th>\n",
       "      <th>Name</th>\n",
       "    </tr>\n",
       "  </thead>\n",
       "  <tbody>\n",
       "    <tr>\n",
       "      <th>0</th>\n",
       "      <td>2021-12-01 17:58:27 IST+0530</td>\n",
       "      <td>NaN</td>\n",
       "    </tr>\n",
       "    <tr>\n",
       "      <th>1</th>\n",
       "      <td>2021-12-01 17:58:27 IST+0530</td>\n",
       "      <td>NaN</td>\n",
       "    </tr>\n",
       "    <tr>\n",
       "      <th>2</th>\n",
       "      <td>2021-12-01 17:56:24 IST+0530</td>\n",
       "      <td>NaN</td>\n",
       "    </tr>\n",
       "    <tr>\n",
       "      <th>4</th>\n",
       "      <td>2021-12-01 17:56:24 IST+0530</td>\n",
       "      <td>NaN</td>\n",
       "    </tr>\n",
       "    <tr>\n",
       "      <th>6</th>\n",
       "      <td>2021-12-01 19:26:58 IST+0530</td>\n",
       "      <td>NaN</td>\n",
       "    </tr>\n",
       "    <tr>\n",
       "      <th>...</th>\n",
       "      <td>...</td>\n",
       "      <td>...</td>\n",
       "    </tr>\n",
       "    <tr>\n",
       "      <th>406</th>\n",
       "      <td>2021-12-19 07:32:14.004000+00:00</td>\n",
       "      <td>ignitionOff</td>\n",
       "    </tr>\n",
       "    <tr>\n",
       "      <th>407</th>\n",
       "      <td>2021-12-19 05:54:05.037000+00:00</td>\n",
       "      <td>ignitionOff</td>\n",
       "    </tr>\n",
       "    <tr>\n",
       "      <th>408</th>\n",
       "      <td>2021-12-19 04:10:51.041000+00:00</td>\n",
       "      <td>ignitionOff</td>\n",
       "    </tr>\n",
       "    <tr>\n",
       "      <th>409</th>\n",
       "      <td>2021-12-18 22:45:17.030000+00:00</td>\n",
       "      <td>ignitionOff</td>\n",
       "    </tr>\n",
       "    <tr>\n",
       "      <th>410</th>\n",
       "      <td>2021-12-18 18:53:37.067000+00:00</td>\n",
       "      <td>ignitionOff</td>\n",
       "    </tr>\n",
       "  </tbody>\n",
       "</table>\n",
       "<p>31291 rows × 2 columns</p>\n",
       "</div>"
      ],
      "text/plain": [
       "                                  CTS         Name\n",
       "0        2021-12-01 17:58:27 IST+0530          NaN\n",
       "1        2021-12-01 17:58:27 IST+0530          NaN\n",
       "2        2021-12-01 17:56:24 IST+0530          NaN\n",
       "4        2021-12-01 17:56:24 IST+0530          NaN\n",
       "6        2021-12-01 19:26:58 IST+0530          NaN\n",
       "..                                ...          ...\n",
       "406  2021-12-19 07:32:14.004000+00:00  ignitionOff\n",
       "407  2021-12-19 05:54:05.037000+00:00  ignitionOff\n",
       "408  2021-12-19 04:10:51.041000+00:00  ignitionOff\n",
       "409  2021-12-18 22:45:17.030000+00:00  ignitionOff\n",
       "410  2021-12-18 18:53:37.067000+00:00  ignitionOff\n",
       "\n",
       "[31291 rows x 2 columns]"
      ]
     },
     "execution_count": 51,
     "metadata": {},
     "output_type": "execute_result"
    }
   ],
   "source": [
    "ignition_events = df2[df2['NAME'] == 'IGN_CYL']\n",
    "ignition_events = ignition_events[ignition_events['VAL'].isin(['ON', 'OFF'])]\n",
    "import json\n",
    "# Load the artificial ignition off data from JSON\n",
    "with open(r'C:/Users/anton/Downloads/Motorq Data Science Assignment/artificial_ign_off_data.json', 'r') as json_file:\n",
    "\n",
    "    artificial_ign_off_data = json.load(json_file)\n",
    "\n",
    "# Create DataFrame rows for ignitionOff events from JSON data\n",
    "ignition_off_rows = []\n",
    "for item in artificial_ign_off_data:\n",
    "    timestamp = pd.to_datetime(item['timestamp'])\n",
    "    event = 'ignitionOff'\n",
    "    ignition_off_rows.append({'CTS': timestamp, 'Pnid': '', 'Name': event, 'val': event})\n",
    "\n",
    "# Create a DataFrame for the generated ignitionOff events\n",
    "ignition_off_df = pd.DataFrame(ignition_off_rows)\n",
    "\n",
    "# Concatenate the generated ignitionOff events with the existing ignition events\n",
    "all_ignition_events = pd.concat([ignition_events, ignition_off_df])\n",
    "\n",
    "# Display the generated ignitionOff events\n",
    "all_ignition_events[['CTS', 'Name']]"
   ]
  },
  {
   "cell_type": "code",
   "execution_count": 52,
   "metadata": {
    "id": "sIBVEpz3c6iN"
   },
   "outputs": [],
   "source": [
    "import json"
   ]
  },
  {
   "cell_type": "code",
   "execution_count": null,
   "metadata": {
    "id": "gDTUb2VieP4K"
   },
   "outputs": [],
   "source": []
  },
  {
   "cell_type": "markdown",
   "metadata": {
    "id": "M9HJLH84eQoV"
   },
   "source": [
    "#   QUESTION 2A)"
   ]
  },
  {
   "cell_type": "code",
   "execution_count": 53,
   "metadata": {
    "colab": {
     "base_uri": "https://localhost:8080/",
     "height": 423
    },
    "id": "k7bwUFXOeYp3",
    "outputId": "9db19e42-ad3a-4ca2-849b-fdc0186520b4"
   },
   "outputs": [
    {
     "data": {
      "text/html": [
       "<div>\n",
       "<style scoped>\n",
       "    .dataframe tbody tr th:only-of-type {\n",
       "        vertical-align: middle;\n",
       "    }\n",
       "\n",
       "    .dataframe tbody tr th {\n",
       "        vertical-align: top;\n",
       "    }\n",
       "\n",
       "    .dataframe thead th {\n",
       "        text-align: right;\n",
       "    }\n",
       "</style>\n",
       "<table border=\"1\" class=\"dataframe\">\n",
       "  <thead>\n",
       "    <tr style=\"text-align: right;\">\n",
       "      <th></th>\n",
       "      <th>CTS</th>\n",
       "      <th>PNID</th>\n",
       "      <th>VAL</th>\n",
       "    </tr>\n",
       "  </thead>\n",
       "  <tbody>\n",
       "    <tr>\n",
       "      <th>8</th>\n",
       "      <td>2021-12-01 19:57:32 IST+0530</td>\n",
       "      <td>256782425</td>\n",
       "      <td>Active</td>\n",
       "    </tr>\n",
       "    <tr>\n",
       "      <th>93</th>\n",
       "      <td>2021-12-06 22:05:51 IST+0530</td>\n",
       "      <td>258703729</td>\n",
       "      <td>Active</td>\n",
       "    </tr>\n",
       "    <tr>\n",
       "      <th>112</th>\n",
       "      <td>2021-12-07 01:51:38 IST+0530</td>\n",
       "      <td>256782425</td>\n",
       "      <td>Active</td>\n",
       "    </tr>\n",
       "    <tr>\n",
       "      <th>126</th>\n",
       "      <td>2021-12-05 03:05:12 IST+0530</td>\n",
       "      <td>265888189</td>\n",
       "      <td>Active</td>\n",
       "    </tr>\n",
       "    <tr>\n",
       "      <th>184</th>\n",
       "      <td>2021-12-04 04:53:01 IST+0530</td>\n",
       "      <td>258703729</td>\n",
       "      <td>Active</td>\n",
       "    </tr>\n",
       "    <tr>\n",
       "      <th>...</th>\n",
       "      <td>...</td>\n",
       "      <td>...</td>\n",
       "      <td>...</td>\n",
       "    </tr>\n",
       "    <tr>\n",
       "      <th>68507</th>\n",
       "      <td>2022-01-28 21:46:24 IST+0530</td>\n",
       "      <td>266214265</td>\n",
       "      <td>Active</td>\n",
       "    </tr>\n",
       "    <tr>\n",
       "      <th>68508</th>\n",
       "      <td>2022-01-28 21:46:28 IST+0530</td>\n",
       "      <td>266214265</td>\n",
       "      <td>Active</td>\n",
       "    </tr>\n",
       "    <tr>\n",
       "      <th>68509</th>\n",
       "      <td>2022-01-28 21:46:28 IST+0530</td>\n",
       "      <td>266214265</td>\n",
       "      <td>Active</td>\n",
       "    </tr>\n",
       "    <tr>\n",
       "      <th>68574</th>\n",
       "      <td>2022-01-28 20:08:30 IST+0530</td>\n",
       "      <td>256782425</td>\n",
       "      <td>Active</td>\n",
       "    </tr>\n",
       "    <tr>\n",
       "      <th>68575</th>\n",
       "      <td>2022-01-28 20:08:30 IST+0530</td>\n",
       "      <td>256782425</td>\n",
       "      <td>Active</td>\n",
       "    </tr>\n",
       "  </tbody>\n",
       "</table>\n",
       "<p>3607 rows × 3 columns</p>\n",
       "</div>"
      ],
      "text/plain": [
       "                                CTS       PNID     VAL\n",
       "8      2021-12-01 19:57:32 IST+0530  256782425  Active\n",
       "93     2021-12-06 22:05:51 IST+0530  258703729  Active\n",
       "112    2021-12-07 01:51:38 IST+0530  256782425  Active\n",
       "126    2021-12-05 03:05:12 IST+0530  265888189  Active\n",
       "184    2021-12-04 04:53:01 IST+0530  258703729  Active\n",
       "...                             ...        ...     ...\n",
       "68507  2022-01-28 21:46:24 IST+0530  266214265  Active\n",
       "68508  2022-01-28 21:46:28 IST+0530  266214265  Active\n",
       "68509  2022-01-28 21:46:28 IST+0530  266214265  Active\n",
       "68574  2022-01-28 20:08:30 IST+0530  256782425  Active\n",
       "68575  2022-01-28 20:08:30 IST+0530  256782425  Active\n",
       "\n",
       "[3607 rows x 3 columns]"
      ]
     },
     "execution_count": 53,
     "metadata": {},
     "output_type": "execute_result"
    }
   ],
   "source": [
    "ev_charge_state_events = df2[df2['NAME'] == 'EV_CHARGE_STATE']\n",
    "ev_charge_state_events = ev_charge_state_events[ev_charge_state_events['VAL'].isin(['Active', 'Abort', 'Completed'])]\n",
    "\n",
    "# Display the filtered EV charge state events\n",
    "ev_charge_state_events[['CTS', 'PNID', 'VAL']]"
   ]
  },
  {
   "cell_type": "code",
   "execution_count": null,
   "metadata": {
    "colab": {
     "base_uri": "https://localhost:8080/"
    },
    "id": "0t1yfTdleraj",
    "outputId": "7f1c5763-6678-4a79-9ae3-2d3c44c71bf4"
   },
   "outputs": [],
   "source": []
  },
  {
   "cell_type": "code",
   "execution_count": null,
   "metadata": {
    "id": "scRwJy5XhEA9"
   },
   "outputs": [],
   "source": []
  },
  {
   "cell_type": "markdown",
   "metadata": {
    "id": "-kpsJFnohEos"
   },
   "source": [
    "# QUESTION 3)"
   ]
  },
  {
   "cell_type": "code",
   "execution_count": 54,
   "metadata": {
    "colab": {
     "base_uri": "https://localhost:8080/",
     "height": 423
    },
    "id": "RPIVEP3yiTkD",
    "outputId": "3ef68330-797a-48ad-e1c0-875a632820b6"
   },
   "outputs": [
    {
     "data": {
      "text/html": [
       "<div>\n",
       "<style scoped>\n",
       "    .dataframe tbody tr th:only-of-type {\n",
       "        vertical-align: middle;\n",
       "    }\n",
       "\n",
       "    .dataframe tbody tr th {\n",
       "        vertical-align: top;\n",
       "    }\n",
       "\n",
       "    .dataframe thead th {\n",
       "        text-align: right;\n",
       "    }\n",
       "</style>\n",
       "<table border=\"1\" class=\"dataframe\">\n",
       "  <thead>\n",
       "    <tr style=\"text-align: right;\">\n",
       "      <th></th>\n",
       "      <th>event_timestamp</th>\n",
       "      <th>PNID</th>\n",
       "      <th>event</th>\n",
       "    </tr>\n",
       "  </thead>\n",
       "  <tbody>\n",
       "    <tr>\n",
       "      <th>0</th>\n",
       "      <td>2021-12-01 17:58:27 IST+0530</td>\n",
       "      <td>206958332</td>\n",
       "      <td>ignitionOff</td>\n",
       "    </tr>\n",
       "    <tr>\n",
       "      <th>1</th>\n",
       "      <td>2021-12-01 17:58:27 IST+0530</td>\n",
       "      <td>206958332</td>\n",
       "      <td>ignitionOff</td>\n",
       "    </tr>\n",
       "    <tr>\n",
       "      <th>2</th>\n",
       "      <td>2021-12-01 17:56:24 IST+0530</td>\n",
       "      <td>206958332</td>\n",
       "      <td>ignitionOn</td>\n",
       "    </tr>\n",
       "    <tr>\n",
       "      <th>4</th>\n",
       "      <td>2021-12-01 17:56:24 IST+0530</td>\n",
       "      <td>206958332</td>\n",
       "      <td>ignitionOn</td>\n",
       "    </tr>\n",
       "    <tr>\n",
       "      <th>6</th>\n",
       "      <td>2021-12-01 19:26:58 IST+0530</td>\n",
       "      <td>256832791</td>\n",
       "      <td>ignitionOn</td>\n",
       "    </tr>\n",
       "    <tr>\n",
       "      <th>...</th>\n",
       "      <td>...</td>\n",
       "      <td>...</td>\n",
       "      <td>...</td>\n",
       "    </tr>\n",
       "    <tr>\n",
       "      <th>68507</th>\n",
       "      <td>2022-01-28 21:46:24 IST+0530</td>\n",
       "      <td>266214265</td>\n",
       "      <td>Active</td>\n",
       "    </tr>\n",
       "    <tr>\n",
       "      <th>68508</th>\n",
       "      <td>2022-01-28 21:46:28 IST+0530</td>\n",
       "      <td>266214265</td>\n",
       "      <td>Active</td>\n",
       "    </tr>\n",
       "    <tr>\n",
       "      <th>68509</th>\n",
       "      <td>2022-01-28 21:46:28 IST+0530</td>\n",
       "      <td>266214265</td>\n",
       "      <td>Active</td>\n",
       "    </tr>\n",
       "    <tr>\n",
       "      <th>68574</th>\n",
       "      <td>2022-01-28 20:08:30 IST+0530</td>\n",
       "      <td>256782425</td>\n",
       "      <td>Active</td>\n",
       "    </tr>\n",
       "    <tr>\n",
       "      <th>68575</th>\n",
       "      <td>2022-01-28 20:08:30 IST+0530</td>\n",
       "      <td>256782425</td>\n",
       "      <td>Active</td>\n",
       "    </tr>\n",
       "  </tbody>\n",
       "</table>\n",
       "<p>34487 rows × 3 columns</p>\n",
       "</div>"
      ],
      "text/plain": [
       "                    event_timestamp       PNID        event\n",
       "0      2021-12-01 17:58:27 IST+0530  206958332  ignitionOff\n",
       "1      2021-12-01 17:58:27 IST+0530  206958332  ignitionOff\n",
       "2      2021-12-01 17:56:24 IST+0530  206958332   ignitionOn\n",
       "4      2021-12-01 17:56:24 IST+0530  206958332   ignitionOn\n",
       "6      2021-12-01 19:26:58 IST+0530  256832791   ignitionOn\n",
       "...                             ...        ...          ...\n",
       "68507  2022-01-28 21:46:24 IST+0530  266214265       Active\n",
       "68508  2022-01-28 21:46:28 IST+0530  266214265       Active\n",
       "68509  2022-01-28 21:46:28 IST+0530  266214265       Active\n",
       "68574  2022-01-28 20:08:30 IST+0530  256782425       Active\n",
       "68575  2022-01-28 20:08:30 IST+0530  256782425       Active\n",
       "\n",
       "[34487 rows x 3 columns]"
      ]
     },
     "execution_count": 54,
     "metadata": {},
     "output_type": "execute_result"
    }
   ],
   "source": [
    "ignition_events = df2[df2['NAME'] == 'IGN_CYL']\n",
    "ignition_events = ignition_events[ignition_events['VAL'].isin(['ON', 'OFF'])]\n",
    "ignition_events['event'] = ignition_events['VAL'].apply(lambda x: 'ignitionOn' if x == 'ON' else 'ignitionOff')\n",
    "\n",
    "# Filter triggers for EV_CHARGE_STATE events (Active, Abort, Completed)\n",
    "ev_charge_state_events = df2[df2['NAME'] == 'EV_CHARGE_STATE']\n",
    "ev_charge_state_events = ev_charge_state_events[ev_charge_state_events['VAL'].isin(['Active', 'Abort', 'Completed'])]\n",
    "ev_charge_state_events['event'] = ev_charge_state_events['VAL']\n",
    "\n",
    "# Create a table combining ignition events and EV trigger events\n",
    "combined_events = pd.concat([ignition_events, ev_charge_state_events], sort=False)\n",
    "combined_events = combined_events[['CTS', 'PNID', 'event']]\n",
    "combined_events.rename(columns={'CTS': 'event_timestamp', 'Pnid': 'vehicle_id'}, inplace=True)\n",
    "\n",
    "# Display the combined events table\n",
    "combined_events"
   ]
  },
  {
   "cell_type": "markdown",
   "metadata": {
    "id": "BaYpPCRFj6ZP"
   },
   "source": [
    "# Question 4a)"
   ]
  },
  {
   "cell_type": "code",
   "execution_count": 58,
   "metadata": {},
   "outputs": [
    {
     "data": {
      "text/html": [
       "<div>\n",
       "<style scoped>\n",
       "    .dataframe tbody tr th:only-of-type {\n",
       "        vertical-align: middle;\n",
       "    }\n",
       "\n",
       "    .dataframe tbody tr th {\n",
       "        vertical-align: top;\n",
       "    }\n",
       "\n",
       "    .dataframe thead th {\n",
       "        text-align: right;\n",
       "    }\n",
       "</style>\n",
       "<table border=\"1\" class=\"dataframe\">\n",
       "  <thead>\n",
       "    <tr style=\"text-align: right;\">\n",
       "      <th></th>\n",
       "      <th>TIMESTAMP</th>\n",
       "      <th>PNID</th>\n",
       "      <th>event</th>\n",
       "      <th>EV_BATTERY_LEVEL</th>\n",
       "    </tr>\n",
       "  </thead>\n",
       "  <tbody>\n",
       "  </tbody>\n",
       "</table>\n",
       "</div>"
      ],
      "text/plain": [
       "Empty DataFrame\n",
       "Columns: [TIMESTAMP, PNID, event, EV_BATTERY_LEVEL]\n",
       "Index: []"
      ]
     },
     "execution_count": 58,
     "metadata": {},
     "output_type": "execute_result"
    }
   ],
   "source": [
    "ignition_events = df2[df2['NAME'] == 'IGN_CYL']\n",
    "charge_events = df2[df2['NAME'] == 'CHARGE_STATE']\n",
    "\n",
    "# Merge ignition and charge events with telemetry data to get EV battery levels\n",
    "ignition_events = pd.merge(ignition_events, df, left_on='CTS', right_on='TIMESTAMP', how='inner')\n",
    "charge_events = pd.merge(charge_events, df, left_on='CTS', right_on='TIMESTAMP', how='inner')\n",
    "\n",
    "# Select relevant columns\n",
    "ignition_events = ignition_events[['CTS', 'PNID', 'VAL', 'EV_BATTERY_LEVEL']]\n",
    "charge_events = charge_events[['CTS', 'PNID', 'VAL', 'EV_BATTERY_LEVEL']]\n",
    "\n",
    "# Rename columns for clarity\n",
    "ignition_events.columns = ['TIMESTAMP', 'PNID', 'event', 'EV_BATTERY_LEVEL']\n",
    "charge_events.columns = ['TIMESTAMP', 'PNID', 'event', 'EV_BATTERY_LEVEL']\n",
    "\n",
    "# Concatenate ignition and charge events\n",
    "final_dataset = pd.concat([ignition_events, charge_events])\n",
    "\n",
    "# Display the final dataset\n",
    "final_dataset"
   ]
  },
  {
   "cell_type": "code",
   "execution_count": null,
   "metadata": {},
   "outputs": [],
   "source": []
  }
 ],
 "metadata": {
  "colab": {
   "provenance": []
  },
  "kernelspec": {
   "display_name": "Python 3 (ipykernel)",
   "language": "python",
   "name": "python3"
  },
  "language_info": {
   "codemirror_mode": {
    "name": "ipython",
    "version": 3
   },
   "file_extension": ".py",
   "mimetype": "text/x-python",
   "name": "python",
   "nbconvert_exporter": "python",
   "pygments_lexer": "ipython3",
   "version": "3.9.12"
  }
 },
 "nbformat": 4,
 "nbformat_minor": 1
}
